{
 "cells": [
  {
   "cell_type": "markdown",
   "id": "715be873-1bbd-42a6-9bed-2f6948cd8360",
   "metadata": {},
   "source": [
    "#### Problem_Statement :-  Write a program to the convert the lowercase to uppercase letters and vice versa by using tkinter."
   ]
  },
  {
   "cell_type": "code",
   "execution_count": 285,
   "id": "7616457d-843c-4fdf-b7f4-463a2c7e260e",
   "metadata": {},
   "outputs": [],
   "source": [
    "import tkinter as tk\n",
    "from tkinter import ttk\n",
    "\"\"\"\n",
    "Themed Tk (Ttk) is a newer family of Tk widgets that provide a much better appearance on different platforms than many of the classic Tk widgets. \n",
    "Ttk is distributed as part of Tk, starting with Tk version 8.5. \n",
    "Python bindings are provided in a separate module, tkinter.ttk.\n",
    "\"\"\"\n",
    "\n",
    "\n",
    "def to_uppercase():\n",
    "    \"\"\"Convert text to uppercase and display it.\"\"\"\n",
    "    text = entry.get()\n",
    "    converted_text = text.upper()\n",
    "    result_label.config(text=converted_text)\n",
    "\n",
    "def to_lowercase():\n",
    "    \"\"\"Convert text to lowercase and display it.\"\"\"\n",
    "    text = entry.get()\n",
    "    converted_text = text.lower()\n",
    "    result_label.config(text=converted_text)\n",
    "\n",
    "# Create the main window\n",
    "root = tk.Tk()\n",
    "root.title(\"Case Converter\")\n",
    "root.geometry(\"400x650\")  # Set a fixed size for the window\n",
    "root.configure(bg=\"blue\")  # Set a light grey background color\n",
    "\n",
    "# Create a style object for ttk widgets\n",
    "style = ttk.Style()\n",
    "style.configure('TButton',\n",
    "                font=('Arial Black', 12),\n",
    "                padding=6,\n",
    "                relief='flat',\n",
    "                background='Blue',\n",
    "                foreground='Orange')\n",
    "style.map('TButton',\n",
    "          background=[('active', 'blue')],\n",
    "          foreground=[('pressed', 'green'), ('active', 'red')])\n",
    "\n",
    "# Create and place the title label\n",
    "title_label = tk.Label(root, text=\"Case Converter\", font=(\"Times New Roman\", 22, \"bold\"), bg=\"blue\")\n",
    "title_label.pack(pady=10)\n",
    "\n",
    "# Create and place the instruction label\n",
    "instruction_label = tk.Label(root, text=\"Enter text below and choose a conversion option.\", font=(\"Times New Roman\", 14), bg=\"blue\")\n",
    "instruction_label.pack(pady=2)\n",
    "\n",
    "# Create and place the input field\n",
    "entry = tk.Entry(root, width=25, font=(\"Arial Black\", 14), bg = \"#90EE90\")\n",
    "entry.pack(pady=10)\n",
    "\n",
    "# buttons and their lookouts \n",
    "button_frame = tk.Frame(root, bg=\"red\")\n",
    "button_frame.pack(pady=10)\n",
    "\n",
    "uppercase_button = ttk.Button(button_frame, text=\"To Uppercase\", command=to_uppercase)\n",
    "uppercase_button.grid(row=0, column=0, padx=8)\n",
    "\n",
    "lowercase_button = ttk.Button(button_frame, text=\"To Lowercase\", command=to_lowercase)\n",
    "lowercase_button.grid(row=0, column=1, padx=8)\n",
    "\n",
    "# It shows the result/output that is desired\n",
    "result_label = tk.Label(root, text=\"\", font=(\"Times New Roman\", 14, \"bold\"), bg=\"Red\")\n",
    "result_label.pack(pady=10)\n",
    "\n",
    "# Runner code for the application\n",
    "if __name__ == '__main__':\n",
    "    root.mainloop()\n",
    "\n"
   ]
  },
  {
   "cell_type": "code",
   "execution_count": null,
   "id": "4d623a7c-678d-43db-a491-c9aa058839b4",
   "metadata": {},
   "outputs": [],
   "source": []
  }
 ],
 "metadata": {
  "kernelspec": {
   "display_name": "Python 3 (ipykernel)",
   "language": "python",
   "name": "python3"
  },
  "language_info": {
   "codemirror_mode": {
    "name": "ipython",
    "version": 3
   },
   "file_extension": ".py",
   "mimetype": "text/x-python",
   "name": "python",
   "nbconvert_exporter": "python",
   "pygments_lexer": "ipython3",
   "version": "3.11.7"
  }
 },
 "nbformat": 4,
 "nbformat_minor": 5
}
